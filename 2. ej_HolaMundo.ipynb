{
  "cells": [
    {
      "cell_type": "markdown",
      "source": [
        "# Ejemplo simple de Jupyter Notebook\n",
        "\n",
        "Sólo muestra \"Hola Mundo!"
      ],
      "metadata": {
        "id": "s5gLXada1pJ8"
      }
    },
    {
      "cell_type": "code",
      "execution_count": 3,
      "metadata": {
        "id": "Bfpygy9F1eCl",
        "outputId": "90c2ffb4-9ae6-43c4-9796-e77ccdece358",
        "colab": {
          "base_uri": "https://localhost:8080/"
        }
      },
      "outputs": [
        {
          "output_type": "stream",
          "name": "stdout",
          "text": [
            "Ricardo Quintero\n"
          ]
        }
      ],
      "source": [
        "print(\"Ricardo Quintero\")"
      ]
    },
    {
      "cell_type": "code",
      "source": [
        "print(\"Hola a todos !\")"
      ],
      "metadata": {
        "id": "W3I3fqQy1z6X",
        "outputId": "16bbbb29-3f41-4408-a2fc-748c643468ba",
        "colab": {
          "base_uri": "https://localhost:8080/"
        }
      },
      "execution_count": 4,
      "outputs": [
        {
          "output_type": "stream",
          "name": "stdout",
          "text": [
            "Hola a todos !\n"
          ]
        }
      ]
    }
  ],
  "metadata": {
    "language_info": {
      "name": "python"
    },
    "orig_nbformat": 4,
    "colab": {
      "provenance": []
    },
    "kernelspec": {
      "name": "python3",
      "display_name": "Python 3"
    },
    "gpuClass": "standard"
  },
  "nbformat": 4,
  "nbformat_minor": 0
}